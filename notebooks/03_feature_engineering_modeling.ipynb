{
 "cells": [
  {
   "cell_type": "markdown",
   "id": "022fdbab",
   "metadata": {},
   "source": [
    "# Titanic - Feature Engineering & Model Improvement\n",
    "\n",
    "In this notebook, I explore and apply feature engineering techniques to improve survival prediction. Building on the baseline model from the previous notebook, I introduce new features, test more powerful classifiers, and evaluate their performance.\n",
    "\n",
    "## Objectives\n",
    "- Create new features that may improve model accuracy\n",
    "- Train and evaluate models such as Random Forest and Gradient Boosting\n",
    "- Compare results to the baseline logistic regression model\n",
    "- Generate a new Kaggle submission with the improved model\n",
    "\n",
    "## Previous work\n",
    "- See `01_eda.ipynb` for exploratory data analysis\n",
    "- See `02_baseline_model.ipynb` for initial preprocessing and baseline model"
   ]
  },
  {
   "cell_type": "markdown",
   "id": "561c2030",
   "metadata": {},
   "source": [
    "# 1. Load Libraries and Data"
   ]
  },
  {
   "cell_type": "code",
   "execution_count": 3,
   "id": "ffac27fc",
   "metadata": {},
   "outputs": [],
   "source": [
    "# load libraries\n",
    "import pandas as pd"
   ]
  },
  {
   "cell_type": "code",
   "execution_count": 4,
   "id": "f38ddb48",
   "metadata": {},
   "outputs": [],
   "source": [
    "# load data\n",
    "train = pd.read_csv(\"../data/train.csv\")\n",
    "test = pd.read_csv(\"../data/test.csv\")"
   ]
  },
  {
   "cell_type": "markdown",
   "id": "b919b89a",
   "metadata": {},
   "source": [
    "## 2. Quick Look at Missing Values"
   ]
  },
  {
   "cell_type": "code",
   "execution_count": 5,
   "id": "65109210",
   "metadata": {},
   "outputs": [
    {
     "data": {
      "text/plain": [
       "PassengerId      0\n",
       "Survived         0\n",
       "Pclass           0\n",
       "Name             0\n",
       "Sex              0\n",
       "Age            177\n",
       "SibSp            0\n",
       "Parch            0\n",
       "Ticket           0\n",
       "Fare             0\n",
       "Cabin          687\n",
       "Embarked         2\n",
       "dtype: int64"
      ]
     },
     "execution_count": 5,
     "metadata": {},
     "output_type": "execute_result"
    }
   ],
   "source": [
    "train.isnull().sum()"
   ]
  },
  {
   "cell_type": "code",
   "execution_count": 6,
   "id": "0270efae",
   "metadata": {},
   "outputs": [
    {
     "data": {
      "text/plain": [
       "PassengerId      0\n",
       "Pclass           0\n",
       "Name             0\n",
       "Sex              0\n",
       "Age             86\n",
       "SibSp            0\n",
       "Parch            0\n",
       "Ticket           0\n",
       "Fare             1\n",
       "Cabin          327\n",
       "Embarked         0\n",
       "dtype: int64"
      ]
     },
     "execution_count": 6,
     "metadata": {},
     "output_type": "execute_result"
    }
   ],
   "source": [
    "test.isnull().sum()"
   ]
  }
 ],
 "metadata": {
  "kernelspec": {
   "display_name": ".venv",
   "language": "python",
   "name": "python3"
  },
  "language_info": {
   "codemirror_mode": {
    "name": "ipython",
    "version": 3
   },
   "file_extension": ".py",
   "mimetype": "text/x-python",
   "name": "python",
   "nbconvert_exporter": "python",
   "pygments_lexer": "ipython3",
   "version": "3.13.1"
  }
 },
 "nbformat": 4,
 "nbformat_minor": 5
}
